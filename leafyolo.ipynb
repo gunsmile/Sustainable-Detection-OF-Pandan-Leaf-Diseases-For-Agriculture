{
 "cells": [
  {
   "cell_type": "code",
   "execution_count": 1,
   "metadata": {},
   "outputs": [
    {
     "name": "stdout",
     "output_type": "stream",
     "text": [
      "Requirement already satisfied: ultralytics in c:\\users\\kamonluk\\anaconda3\\lib\\site-packages (8.0.43)\n",
      "Requirement already satisfied: requests>=2.23.0 in c:\\users\\kamonluk\\anaconda3\\lib\\site-packages (from ultralytics) (2.26.0)\n",
      "Requirement already satisfied: pandas>=1.1.4 in c:\\users\\kamonluk\\anaconda3\\lib\\site-packages (from ultralytics) (1.3.4)\n",
      "Requirement already satisfied: scipy>=1.4.1 in c:\\users\\kamonluk\\anaconda3\\lib\\site-packages (from ultralytics) (1.7.1)\n",
      "Requirement already satisfied: numpy>=1.18.5 in c:\\users\\kamonluk\\anaconda3\\lib\\site-packages (from ultralytics) (1.21.6)\n",
      "Requirement already satisfied: opencv-python>=4.6.0 in c:\\users\\kamonluk\\anaconda3\\lib\\site-packages (from ultralytics) (4.9.0.80)\n",
      "Requirement already satisfied: torch>=1.7.0 in c:\\users\\kamonluk\\anaconda3\\lib\\site-packages (from ultralytics) (2.5.1)\n",
      "Requirement already satisfied: Pillow>=7.1.2 in c:\\users\\kamonluk\\anaconda3\\lib\\site-packages (from ultralytics) (8.4.0)\n",
      "Requirement already satisfied: matplotlib>=3.2.2 in c:\\users\\kamonluk\\anaconda3\\lib\\site-packages (from ultralytics) (3.4.3)\n",
      "Requirement already satisfied: sentry-sdk in c:\\users\\kamonluk\\anaconda3\\lib\\site-packages (from ultralytics) (2.18.0)\n",
      "Requirement already satisfied: wheel>=0.38.0 in c:\\users\\kamonluk\\anaconda3\\lib\\site-packages (from ultralytics) (0.44.0)\n",
      "Requirement already satisfied: seaborn>=0.11.0 in c:\\users\\kamonluk\\anaconda3\\lib\\site-packages (from ultralytics) (0.11.2)\n",
      "Requirement already satisfied: psutil in c:\\users\\kamonluk\\anaconda3\\lib\\site-packages (from ultralytics) (5.8.0)\n",
      "Requirement already satisfied: tensorboard>=2.4.1 in c:\\users\\kamonluk\\anaconda3\\lib\\site-packages (from ultralytics) (2.18.0)\n",
      "Requirement already satisfied: torchvision>=0.8.1 in c:\\users\\kamonluk\\anaconda3\\lib\\site-packages (from ultralytics) (0.20.1)\n",
      "Requirement already satisfied: thop>=0.1.1 in c:\\users\\kamonluk\\anaconda3\\lib\\site-packages (from ultralytics) (0.1.1.post2209072238)\n",
      "Requirement already satisfied: tqdm>=4.64.0 in c:\\users\\kamonluk\\anaconda3\\lib\\site-packages (from ultralytics) (4.66.6)\n",
      "Requirement already satisfied: PyYAML>=5.3.1 in c:\\users\\kamonluk\\anaconda3\\lib\\site-packages (from ultralytics) (6.0)\n",
      "Requirement already satisfied: kiwisolver>=1.0.1 in c:\\users\\kamonluk\\anaconda3\\lib\\site-packages (from matplotlib>=3.2.2->ultralytics) (1.3.1)\n",
      "Requirement already satisfied: python-dateutil>=2.7 in c:\\users\\kamonluk\\anaconda3\\lib\\site-packages (from matplotlib>=3.2.2->ultralytics) (2.8.2)\n",
      "Requirement already satisfied: cycler>=0.10 in c:\\users\\kamonluk\\anaconda3\\lib\\site-packages (from matplotlib>=3.2.2->ultralytics) (0.10.0)\n",
      "Requirement already satisfied: pyparsing>=2.2.1 in c:\\users\\kamonluk\\anaconda3\\lib\\site-packages (from matplotlib>=3.2.2->ultralytics) (3.0.4)\n",
      "Requirement already satisfied: six in c:\\users\\kamonluk\\anaconda3\\lib\\site-packages (from cycler>=0.10->matplotlib>=3.2.2->ultralytics) (1.16.0)\n",
      "Requirement already satisfied: pytz>=2017.3 in c:\\users\\kamonluk\\anaconda3\\lib\\site-packages (from pandas>=1.1.4->ultralytics) (2021.3)\n",
      "Requirement already satisfied: idna<4,>=2.5 in c:\\users\\kamonluk\\anaconda3\\lib\\site-packages (from requests>=2.23.0->ultralytics) (3.2)\n",
      "Requirement already satisfied: charset-normalizer~=2.0.0 in c:\\users\\kamonluk\\anaconda3\\lib\\site-packages (from requests>=2.23.0->ultralytics) (2.0.4)\n",
      "Requirement already satisfied: urllib3<1.27,>=1.21.1 in c:\\users\\kamonluk\\anaconda3\\lib\\site-packages (from requests>=2.23.0->ultralytics) (1.26.20)\n",
      "Requirement already satisfied: certifi>=2017.4.17 in c:\\users\\kamonluk\\anaconda3\\lib\\site-packages (from requests>=2.23.0->ultralytics) (2021.10.8)\n",
      "Requirement already satisfied: absl-py>=0.4 in c:\\users\\kamonluk\\anaconda3\\lib\\site-packages (from tensorboard>=2.4.1->ultralytics) (2.1.0)\n",
      "Requirement already satisfied: grpcio>=1.48.2 in c:\\users\\kamonluk\\anaconda3\\lib\\site-packages (from tensorboard>=2.4.1->ultralytics) (1.67.1)\n",
      "Requirement already satisfied: packaging in c:\\users\\kamonluk\\anaconda3\\lib\\site-packages (from tensorboard>=2.4.1->ultralytics) (21.0)\n",
      "Requirement already satisfied: markdown>=2.6.8 in c:\\users\\kamonluk\\anaconda3\\lib\\site-packages (from tensorboard>=2.4.1->ultralytics) (3.7)\n",
      "Requirement already satisfied: protobuf!=4.24.0,>=3.19.6 in c:\\users\\kamonluk\\anaconda3\\lib\\site-packages (from tensorboard>=2.4.1->ultralytics) (5.28.3)\n",
      "Requirement already satisfied: werkzeug>=1.0.1 in c:\\users\\kamonluk\\anaconda3\\lib\\site-packages (from tensorboard>=2.4.1->ultralytics) (2.0.2)\n",
      "Requirement already satisfied: tensorboard-data-server<0.8.0,>=0.7.0 in c:\\users\\kamonluk\\anaconda3\\lib\\site-packages (from tensorboard>=2.4.1->ultralytics) (0.7.2)\n",
      "Requirement already satisfied: setuptools>=41.0.0 in c:\\users\\kamonluk\\anaconda3\\lib\\site-packages (from tensorboard>=2.4.1->ultralytics) (58.0.4)\n",
      "Requirement already satisfied: importlib-metadata>=4.4 in c:\\users\\kamonluk\\anaconda3\\lib\\site-packages (from markdown>=2.6.8->tensorboard>=2.4.1->ultralytics) (4.8.1)\n",
      "Requirement already satisfied: zipp>=0.5 in c:\\users\\kamonluk\\anaconda3\\lib\\site-packages (from importlib-metadata>=4.4->markdown>=2.6.8->tensorboard>=2.4.1->ultralytics) (3.6.0)\n",
      "Requirement already satisfied: fsspec in c:\\users\\kamonluk\\anaconda3\\lib\\site-packages (from torch>=1.7.0->ultralytics) (2024.10.0)\n",
      "Requirement already satisfied: networkx in c:\\users\\kamonluk\\anaconda3\\lib\\site-packages (from torch>=1.7.0->ultralytics) (2.6.3)\n",
      "Requirement already satisfied: typing-extensions>=4.8.0 in c:\\users\\kamonluk\\anaconda3\\lib\\site-packages (from torch>=1.7.0->ultralytics) (4.12.2)\n",
      "Requirement already satisfied: sympy==1.13.1 in c:\\users\\kamonluk\\anaconda3\\lib\\site-packages (from torch>=1.7.0->ultralytics) (1.13.1)\n",
      "Requirement already satisfied: filelock in c:\\users\\kamonluk\\anaconda3\\lib\\site-packages (from torch>=1.7.0->ultralytics) (3.3.1)\n",
      "Requirement already satisfied: jinja2 in c:\\users\\kamonluk\\anaconda3\\lib\\site-packages (from torch>=1.7.0->ultralytics) (2.11.3)\n",
      "Requirement already satisfied: mpmath<1.4,>=1.1.0 in c:\\users\\kamonluk\\anaconda3\\lib\\site-packages (from sympy==1.13.1->torch>=1.7.0->ultralytics) (1.2.1)\n",
      "Requirement already satisfied: colorama in c:\\users\\kamonluk\\anaconda3\\lib\\site-packages (from tqdm>=4.64.0->ultralytics) (0.4.4)\n",
      "Requirement already satisfied: MarkupSafe>=0.23 in c:\\users\\kamonluk\\anaconda3\\lib\\site-packages (from jinja2->torch>=1.7.0->ultralytics) (1.1.1)\n",
      "Note: you may need to restart the kernel to use updated packages.\n"
     ]
    }
   ],
   "source": [
    "pip install ultralytics"
   ]
  },
  {
   "cell_type": "code",
   "execution_count": 2,
   "metadata": {},
   "outputs": [
    {
     "name": "stderr",
     "output_type": "stream",
     "text": [
      "Downloading https://github.com/ultralytics/assets/releases/download/v0.0.0/yolov8s.pt to yolov8s.pt...\n",
      "100%|██████████| 21.5M/21.5M [00:00<00:00, 29.6MB/s]\n",
      "c:\\Users\\Kamonluk\\anaconda3\\lib\\site-packages\\ultralytics\\nn\\tasks.py:340: FutureWarning: You are using `torch.load` with `weights_only=False` (the current default value), which uses the default pickle module implicitly. It is possible to construct malicious pickle data which will execute arbitrary code during unpickling (See https://github.com/pytorch/pytorch/blob/main/SECURITY.md#untrusted-models for more details). In a future release, the default value for `weights_only` will be flipped to `True`. This limits the functions that could be executed during unpickling. Arbitrary objects will no longer be allowed to be loaded via this mode unless they are explicitly allowlisted by the user via `torch.serialization.add_safe_globals`. We recommend you start setting `weights_only=True` for any use case where you don't have full control of the loaded file. Please open an issue on GitHub for any issues related to this experimental feature.\n",
      "  return torch.load(file, map_location='cpu'), file  # load\n",
      "Ultralytics YOLOv8.0.43  Python-3.9.7 torch-2.5.1+cpu \n"
     ]
    },
    {
     "ename": "ValueError",
     "evalue": "Invalid CUDA 'device=0' requested. Use 'device=cpu' or pass valid CUDA device(s) if available, i.e. 'device=0' or 'device=0,1,2,3' for Multi-GPU.\n\ntorch.cuda.is_available(): False\ntorch.cuda.device_count(): 0\nos.environ['CUDA_VISIBLE_DEVICES']: None\nSee https://pytorch.org/get-started/locally/ for up-to-date torch install instructions if no CUDA devices are seen by torch.\n",
     "output_type": "error",
     "traceback": [
      "\u001b[1;31m---------------------------------------------------------------------------\u001b[0m",
      "\u001b[1;31mValueError\u001b[0m                                Traceback (most recent call last)",
      "\u001b[1;32m~\\AppData\\Local\\Temp/ipykernel_17468/466595256.py\u001b[0m in \u001b[0;36m<module>\u001b[1;34m\u001b[0m\n\u001b[0;32m      5\u001b[0m \u001b[1;33m\u001b[0m\u001b[0m\n\u001b[0;32m      6\u001b[0m \u001b[1;31m# เริ่มการฝึก\u001b[0m\u001b[1;33m\u001b[0m\u001b[1;33m\u001b[0m\u001b[0m\n\u001b[1;32m----> 7\u001b[1;33m model.train(\n\u001b[0m\u001b[0;32m      8\u001b[0m     \u001b[0mdata\u001b[0m\u001b[1;33m=\u001b[0m\u001b[1;34m'C:/Users/Kamonluk/Desktop/Pandanus/data.yaml'\u001b[0m\u001b[1;33m,\u001b[0m  \u001b[1;31m# เส้นทางไปยังไฟล์ data.yaml\u001b[0m\u001b[1;33m\u001b[0m\u001b[1;33m\u001b[0m\u001b[0m\n\u001b[0;32m      9\u001b[0m     \u001b[0mepochs\u001b[0m\u001b[1;33m=\u001b[0m\u001b[1;36m50\u001b[0m\u001b[1;33m,\u001b[0m                  \u001b[1;31m# จำนวนรอบการฝึก\u001b[0m\u001b[1;33m\u001b[0m\u001b[1;33m\u001b[0m\u001b[0m\n",
      "\u001b[1;32mc:\\Users\\Kamonluk\\anaconda3\\lib\\site-packages\\ultralytics\\yolo\\engine\\model.py\u001b[0m in \u001b[0;36mtrain\u001b[1;34m(self, **kwargs)\u001b[0m\n\u001b[0;32m    291\u001b[0m             \u001b[0moverrides\u001b[0m\u001b[1;33m[\u001b[0m\u001b[1;34m'resume'\u001b[0m\u001b[1;33m]\u001b[0m \u001b[1;33m=\u001b[0m \u001b[0mself\u001b[0m\u001b[1;33m.\u001b[0m\u001b[0mckpt_path\u001b[0m\u001b[1;33m\u001b[0m\u001b[1;33m\u001b[0m\u001b[0m\n\u001b[0;32m    292\u001b[0m \u001b[1;33m\u001b[0m\u001b[0m\n\u001b[1;32m--> 293\u001b[1;33m         \u001b[0mself\u001b[0m\u001b[1;33m.\u001b[0m\u001b[0mtrainer\u001b[0m \u001b[1;33m=\u001b[0m \u001b[0mself\u001b[0m\u001b[1;33m.\u001b[0m\u001b[0mTrainerClass\u001b[0m\u001b[1;33m(\u001b[0m\u001b[0moverrides\u001b[0m\u001b[1;33m=\u001b[0m\u001b[0moverrides\u001b[0m\u001b[1;33m)\u001b[0m\u001b[1;33m\u001b[0m\u001b[1;33m\u001b[0m\u001b[0m\n\u001b[0m\u001b[0;32m    294\u001b[0m         \u001b[1;32mif\u001b[0m \u001b[1;32mnot\u001b[0m \u001b[0moverrides\u001b[0m\u001b[1;33m.\u001b[0m\u001b[0mget\u001b[0m\u001b[1;33m(\u001b[0m\u001b[1;34m'resume'\u001b[0m\u001b[1;33m)\u001b[0m\u001b[1;33m:\u001b[0m  \u001b[1;31m# manually set model only if not resuming\u001b[0m\u001b[1;33m\u001b[0m\u001b[1;33m\u001b[0m\u001b[0m\n\u001b[0;32m    295\u001b[0m             \u001b[0mself\u001b[0m\u001b[1;33m.\u001b[0m\u001b[0mtrainer\u001b[0m\u001b[1;33m.\u001b[0m\u001b[0mmodel\u001b[0m \u001b[1;33m=\u001b[0m \u001b[0mself\u001b[0m\u001b[1;33m.\u001b[0m\u001b[0mtrainer\u001b[0m\u001b[1;33m.\u001b[0m\u001b[0mget_model\u001b[0m\u001b[1;33m(\u001b[0m\u001b[0mweights\u001b[0m\u001b[1;33m=\u001b[0m\u001b[0mself\u001b[0m\u001b[1;33m.\u001b[0m\u001b[0mmodel\u001b[0m \u001b[1;32mif\u001b[0m \u001b[0mself\u001b[0m\u001b[1;33m.\u001b[0m\u001b[0mckpt\u001b[0m \u001b[1;32melse\u001b[0m \u001b[1;32mNone\u001b[0m\u001b[1;33m,\u001b[0m \u001b[0mcfg\u001b[0m\u001b[1;33m=\u001b[0m\u001b[0mself\u001b[0m\u001b[1;33m.\u001b[0m\u001b[0mmodel\u001b[0m\u001b[1;33m.\u001b[0m\u001b[0myaml\u001b[0m\u001b[1;33m)\u001b[0m\u001b[1;33m\u001b[0m\u001b[1;33m\u001b[0m\u001b[0m\n",
      "\u001b[1;32mc:\\Users\\Kamonluk\\anaconda3\\lib\\site-packages\\ultralytics\\yolo\\engine\\trainer.py\u001b[0m in \u001b[0;36m__init__\u001b[1;34m(self, cfg, overrides)\u001b[0m\n\u001b[0;32m     83\u001b[0m         \"\"\"\n\u001b[0;32m     84\u001b[0m         \u001b[0mself\u001b[0m\u001b[1;33m.\u001b[0m\u001b[0margs\u001b[0m \u001b[1;33m=\u001b[0m \u001b[0mget_cfg\u001b[0m\u001b[1;33m(\u001b[0m\u001b[0mcfg\u001b[0m\u001b[1;33m,\u001b[0m \u001b[0moverrides\u001b[0m\u001b[1;33m)\u001b[0m\u001b[1;33m\u001b[0m\u001b[1;33m\u001b[0m\u001b[0m\n\u001b[1;32m---> 85\u001b[1;33m         \u001b[0mself\u001b[0m\u001b[1;33m.\u001b[0m\u001b[0mdevice\u001b[0m \u001b[1;33m=\u001b[0m \u001b[0mselect_device\u001b[0m\u001b[1;33m(\u001b[0m\u001b[0mself\u001b[0m\u001b[1;33m.\u001b[0m\u001b[0margs\u001b[0m\u001b[1;33m.\u001b[0m\u001b[0mdevice\u001b[0m\u001b[1;33m,\u001b[0m \u001b[0mself\u001b[0m\u001b[1;33m.\u001b[0m\u001b[0margs\u001b[0m\u001b[1;33m.\u001b[0m\u001b[0mbatch\u001b[0m\u001b[1;33m)\u001b[0m\u001b[1;33m\u001b[0m\u001b[1;33m\u001b[0m\u001b[0m\n\u001b[0m\u001b[0;32m     86\u001b[0m         \u001b[0mself\u001b[0m\u001b[1;33m.\u001b[0m\u001b[0mcheck_resume\u001b[0m\u001b[1;33m(\u001b[0m\u001b[1;33m)\u001b[0m\u001b[1;33m\u001b[0m\u001b[1;33m\u001b[0m\u001b[0m\n\u001b[0;32m     87\u001b[0m         \u001b[0mself\u001b[0m\u001b[1;33m.\u001b[0m\u001b[0mconsole\u001b[0m \u001b[1;33m=\u001b[0m \u001b[0mLOGGER\u001b[0m\u001b[1;33m\u001b[0m\u001b[1;33m\u001b[0m\u001b[0m\n",
      "\u001b[1;32mc:\\Users\\Kamonluk\\anaconda3\\lib\\site-packages\\ultralytics\\yolo\\utils\\torch_utils.py\u001b[0m in \u001b[0;36mselect_device\u001b[1;34m(device, batch, newline, verbose)\u001b[0m\n\u001b[0;32m     77\u001b[0m             \u001b[0minstall\u001b[0m \u001b[1;33m=\u001b[0m \u001b[1;34m'See https://pytorch.org/get-started/locally/ for up-to-date torch install instructions if no '\u001b[0m\u001b[0;31m \u001b[0m\u001b[0;31m\\\u001b[0m\u001b[1;33m\u001b[0m\u001b[1;33m\u001b[0m\u001b[0m\n\u001b[0;32m     78\u001b[0m                       \u001b[1;34m'CUDA devices are seen by torch.\\n'\u001b[0m \u001b[1;32mif\u001b[0m \u001b[0mtorch\u001b[0m\u001b[1;33m.\u001b[0m\u001b[0mcuda\u001b[0m\u001b[1;33m.\u001b[0m\u001b[0mdevice_count\u001b[0m\u001b[1;33m(\u001b[0m\u001b[1;33m)\u001b[0m \u001b[1;33m==\u001b[0m \u001b[1;36m0\u001b[0m \u001b[1;32melse\u001b[0m \u001b[1;34m''\u001b[0m\u001b[1;33m\u001b[0m\u001b[1;33m\u001b[0m\u001b[0m\n\u001b[1;32m---> 79\u001b[1;33m             raise ValueError(f\"Invalid CUDA 'device={device}' requested.\"\n\u001b[0m\u001b[0;32m     80\u001b[0m                              \u001b[1;34mf\" Use 'device=cpu' or pass valid CUDA device(s) if available,\"\u001b[0m\u001b[1;33m\u001b[0m\u001b[1;33m\u001b[0m\u001b[0m\n\u001b[0;32m     81\u001b[0m                              \u001b[1;34mf\" i.e. 'device=0' or 'device=0,1,2,3' for Multi-GPU.\\n\"\u001b[0m\u001b[1;33m\u001b[0m\u001b[1;33m\u001b[0m\u001b[0m\n",
      "\u001b[1;31mValueError\u001b[0m: Invalid CUDA 'device=0' requested. Use 'device=cpu' or pass valid CUDA device(s) if available, i.e. 'device=0' or 'device=0,1,2,3' for Multi-GPU.\n\ntorch.cuda.is_available(): False\ntorch.cuda.device_count(): 0\nos.environ['CUDA_VISIBLE_DEVICES']: None\nSee https://pytorch.org/get-started/locally/ for up-to-date torch install instructions if no CUDA devices are seen by torch.\n"
     ]
    }
   ],
   "source": [
    "from ultralytics import YOLO\n",
    "\n",
    "# โหลดโมเดล YOLOv8 เวอร์ชัน s (small) หรือเลือกขนาดที่เหมาะสม\n",
    "model = YOLO('yolov8s.pt')\n",
    "\n",
    "# เริ่มการฝึก\n",
    "model.train(\n",
    "    data='C:/Users/Kamonluk/Desktop/Pandanus/data.yaml',  # เส้นทางไปยังไฟล์ data.yaml\n",
    "    epochs=50,                  # จำนวนรอบการฝึก\n",
    "    imgsz=640,                  # ขนาดของภาพ\n",
    "    batch=16,                   # ขนาดของ batch\n",
    "    device=0                    # ใช้ GPU ในการฝึก (ถ้ามี)\n",
    ")\n"
   ]
  },
  {
   "cell_type": "code",
   "execution_count": 5,
   "metadata": {},
   "outputs": [],
   "source": [
    "import zipfile\n",
    "import os\n",
    "\n",
    "def zip_folder(folder_path, output_path):\n",
    "    with zipfile.ZipFile(output_path, 'w', zipfile.ZIP_DEFLATED) as zipf:\n",
    "        for root, dirs, files in os.walk(folder_path):\n",
    "            for file in files:\n",
    "                file_path = os.path.join(root, file)\n",
    "                arcname = os.path.relpath(file_path, folder_path)\n",
    "                zipf.write(file_path, arcname)\n",
    "\n",
    "# ใช้ฟังก์ชันเพื่อบีบอัดโฟลเดอร์\n",
    "folder_path = 'C:/Users/Kamonluk/Desktop/Pandanus/dataset'  # ระบุ path ของโฟลเดอร์ที่ต้องการบีบอัด\n",
    "output_path = 'C:/Users/Kamonluk/Desktop/Pandanus/dataset.zip'  # ระบุ path ของไฟล์ .zip ที่จะสร้าง\n",
    "\n",
    "zip_folder(folder_path, output_path)\n"
   ]
  },
  {
   "cell_type": "code",
   "execution_count": 7,
   "metadata": {},
   "outputs": [
    {
     "name": "stdout",
     "output_type": "stream",
     "text": [
      "Requirement already satisfied: pyngrok in c:\\users\\kamonluk\\anaconda3\\lib\\site-packages (7.2.1)\n",
      "Requirement already satisfied: PyYAML>=5.1 in c:\\users\\kamonluk\\anaconda3\\lib\\site-packages (from pyngrok) (6.0)\n"
     ]
    }
   ],
   "source": [
    "!pip install pyngrok"
   ]
  },
  {
   "cell_type": "code",
   "execution_count": 8,
   "metadata": {},
   "outputs": [
    {
     "name": "stderr",
     "output_type": "stream",
     "text": [
      "t=2024-11-07T01:07:03+0700 lvl=eror msg=\"failed to reconnect session\" obj=tunnels.session err=\"authentication failed: Usage of ngrok requires a verified account and authtoken.\\n\\nSign up for an account: https://dashboard.ngrok.com/signup\\nInstall your authtoken: https://dashboard.ngrok.com/get-started/your-authtoken\\r\\n\\r\\nERR_NGROK_4018\\r\\n\"\n",
      "t=2024-11-07T01:07:03+0700 lvl=eror msg=\"session closing\" obj=tunnels.session err=\"authentication failed: Usage of ngrok requires a verified account and authtoken.\\n\\nSign up for an account: https://dashboard.ngrok.com/signup\\nInstall your authtoken: https://dashboard.ngrok.com/get-started/your-authtoken\\r\\n\\r\\nERR_NGROK_4018\\r\\n\"\n",
      "t=2024-11-07T01:07:03+0700 lvl=eror msg=\"terminating with error\" obj=app err=\"authentication failed: Usage of ngrok requires a verified account and authtoken.\\n\\nSign up for an account: https://dashboard.ngrok.com/signup\\nInstall your authtoken: https://dashboard.ngrok.com/get-started/your-authtoken\\r\\n\\r\\nERR_NGROK_4018\\r\\n\"\n",
      "t=2024-11-07T01:07:03+0700 lvl=crit msg=\"command failed\" err=\"authentication failed: Usage of ngrok requires a verified account and authtoken.\\n\\nSign up for an account: https://dashboard.ngrok.com/signup\\nInstall your authtoken: https://dashboard.ngrok.com/get-started/your-authtoken\\r\\n\\r\\nERR_NGROK_4018\\r\\n\"\n",
      "t=2024-11-07T01:07:03+0700 lvl=warn msg=\"failed to check for update\" obj=updater err=\"Post \\\"https://update.equinox.io/check\\\": context canceled\"\n"
     ]
    },
    {
     "ename": "PyngrokNgrokError",
     "evalue": "The ngrok process errored on start: authentication failed: Usage of ngrok requires a verified account and authtoken.\\n\\nSign up for an account: https://dashboard.ngrok.com/signup\\nInstall your authtoken: https://dashboard.ngrok.com/get-started/your-authtoken\\r\\n\\r\\nERR_NGROK_4018\\r\\n.",
     "output_type": "error",
     "traceback": [
      "\u001b[1;31m---------------------------------------------------------------------------\u001b[0m",
      "\u001b[1;31mPyngrokNgrokError\u001b[0m                         Traceback (most recent call last)",
      "\u001b[1;32m~\\AppData\\Local\\Temp/ipykernel_17468/288778052.py\u001b[0m in \u001b[0;36m<module>\u001b[1;34m\u001b[0m\n\u001b[0;32m      2\u001b[0m \u001b[1;33m\u001b[0m\u001b[0m\n\u001b[0;32m      3\u001b[0m \u001b[1;31m# เปิด tunnel ที่พอร์ต 5000\u001b[0m\u001b[1;33m\u001b[0m\u001b[1;33m\u001b[0m\u001b[0m\n\u001b[1;32m----> 4\u001b[1;33m \u001b[0mpublic_url\u001b[0m \u001b[1;33m=\u001b[0m \u001b[0mngrok\u001b[0m\u001b[1;33m.\u001b[0m\u001b[0mconnect\u001b[0m\u001b[1;33m(\u001b[0m\u001b[1;36m5000\u001b[0m\u001b[1;33m)\u001b[0m\u001b[1;33m\u001b[0m\u001b[1;33m\u001b[0m\u001b[0m\n\u001b[0m\u001b[0;32m      5\u001b[0m \u001b[0mprint\u001b[0m\u001b[1;33m(\u001b[0m\u001b[1;34m\"Public URL:\"\u001b[0m\u001b[1;33m,\u001b[0m \u001b[0mpublic_url\u001b[0m\u001b[1;33m)\u001b[0m\u001b[1;33m\u001b[0m\u001b[1;33m\u001b[0m\u001b[0m\n",
      "\u001b[1;32mc:\\Users\\Kamonluk\\anaconda3\\lib\\site-packages\\pyngrok\\ngrok.py\u001b[0m in \u001b[0;36mconnect\u001b[1;34m(addr, proto, name, pyngrok_config, **options)\u001b[0m\n\u001b[0;32m    314\u001b[0m             \u001b[0moptions\u001b[0m\u001b[1;33m.\u001b[0m\u001b[0mpop\u001b[0m\u001b[1;33m(\u001b[0m\u001b[1;34m\"auth\"\u001b[0m\u001b[1;33m)\u001b[0m\u001b[1;33m\u001b[0m\u001b[1;33m\u001b[0m\u001b[0m\n\u001b[0;32m    315\u001b[0m \u001b[1;33m\u001b[0m\u001b[0m\n\u001b[1;32m--> 316\u001b[1;33m     \u001b[0mapi_url\u001b[0m \u001b[1;33m=\u001b[0m \u001b[0mget_ngrok_process\u001b[0m\u001b[1;33m(\u001b[0m\u001b[0mpyngrok_config\u001b[0m\u001b[1;33m)\u001b[0m\u001b[1;33m.\u001b[0m\u001b[0mapi_url\u001b[0m\u001b[1;33m\u001b[0m\u001b[1;33m\u001b[0m\u001b[0m\n\u001b[0m\u001b[0;32m    317\u001b[0m \u001b[1;33m\u001b[0m\u001b[0m\n\u001b[0;32m    318\u001b[0m     \u001b[0mlogger\u001b[0m\u001b[1;33m.\u001b[0m\u001b[0mdebug\u001b[0m\u001b[1;33m(\u001b[0m\u001b[1;34mf\"Creating tunnel with options: {options}\"\u001b[0m\u001b[1;33m)\u001b[0m\u001b[1;33m\u001b[0m\u001b[1;33m\u001b[0m\u001b[0m\n",
      "\u001b[1;32mc:\\Users\\Kamonluk\\anaconda3\\lib\\site-packages\\pyngrok\\ngrok.py\u001b[0m in \u001b[0;36mget_ngrok_process\u001b[1;34m(pyngrok_config)\u001b[0m\n\u001b[0;32m    154\u001b[0m     \u001b[0minstall_ngrok\u001b[0m\u001b[1;33m(\u001b[0m\u001b[0mpyngrok_config\u001b[0m\u001b[1;33m)\u001b[0m\u001b[1;33m\u001b[0m\u001b[1;33m\u001b[0m\u001b[0m\n\u001b[0;32m    155\u001b[0m \u001b[1;33m\u001b[0m\u001b[0m\n\u001b[1;32m--> 156\u001b[1;33m     \u001b[1;32mreturn\u001b[0m \u001b[0mprocess\u001b[0m\u001b[1;33m.\u001b[0m\u001b[0mget_process\u001b[0m\u001b[1;33m(\u001b[0m\u001b[0mpyngrok_config\u001b[0m\u001b[1;33m)\u001b[0m\u001b[1;33m\u001b[0m\u001b[1;33m\u001b[0m\u001b[0m\n\u001b[0m\u001b[0;32m    157\u001b[0m \u001b[1;33m\u001b[0m\u001b[0m\n\u001b[0;32m    158\u001b[0m \u001b[1;33m\u001b[0m\u001b[0m\n",
      "\u001b[1;32mc:\\Users\\Kamonluk\\anaconda3\\lib\\site-packages\\pyngrok\\process.py\u001b[0m in \u001b[0;36mget_process\u001b[1;34m(pyngrok_config)\u001b[0m\n\u001b[0;32m    233\u001b[0m         \u001b[1;32mreturn\u001b[0m \u001b[0m_current_processes\u001b[0m\u001b[1;33m[\u001b[0m\u001b[0mpyngrok_config\u001b[0m\u001b[1;33m.\u001b[0m\u001b[0mngrok_path\u001b[0m\u001b[1;33m]\u001b[0m\u001b[1;33m\u001b[0m\u001b[1;33m\u001b[0m\u001b[0m\n\u001b[0;32m    234\u001b[0m \u001b[1;33m\u001b[0m\u001b[0m\n\u001b[1;32m--> 235\u001b[1;33m     \u001b[1;32mreturn\u001b[0m \u001b[0m_start_process\u001b[0m\u001b[1;33m(\u001b[0m\u001b[0mpyngrok_config\u001b[0m\u001b[1;33m)\u001b[0m\u001b[1;33m\u001b[0m\u001b[1;33m\u001b[0m\u001b[0m\n\u001b[0m\u001b[0;32m    236\u001b[0m \u001b[1;33m\u001b[0m\u001b[0m\n\u001b[0;32m    237\u001b[0m \u001b[1;33m\u001b[0m\u001b[0m\n",
      "\u001b[1;32mc:\\Users\\Kamonluk\\anaconda3\\lib\\site-packages\\pyngrok\\process.py\u001b[0m in \u001b[0;36m_start_process\u001b[1;34m(pyngrok_config)\u001b[0m\n\u001b[0;32m    396\u001b[0m \u001b[1;33m\u001b[0m\u001b[0m\n\u001b[0;32m    397\u001b[0m         \u001b[1;32mif\u001b[0m \u001b[0mngrok_process\u001b[0m\u001b[1;33m.\u001b[0m\u001b[0mstartup_error\u001b[0m \u001b[1;32mis\u001b[0m \u001b[1;32mnot\u001b[0m \u001b[1;32mNone\u001b[0m\u001b[1;33m:\u001b[0m\u001b[1;33m\u001b[0m\u001b[1;33m\u001b[0m\u001b[0m\n\u001b[1;32m--> 398\u001b[1;33m             raise PyngrokNgrokError(f\"The ngrok process errored on start: {ngrok_process.startup_error}.\",\n\u001b[0m\u001b[0;32m    399\u001b[0m                                     \u001b[0mngrok_process\u001b[0m\u001b[1;33m.\u001b[0m\u001b[0mlogs\u001b[0m\u001b[1;33m,\u001b[0m\u001b[1;33m\u001b[0m\u001b[1;33m\u001b[0m\u001b[0m\n\u001b[0;32m    400\u001b[0m                                     ngrok_process.startup_error)\n",
      "\u001b[1;31mPyngrokNgrokError\u001b[0m: The ngrok process errored on start: authentication failed: Usage of ngrok requires a verified account and authtoken.\\n\\nSign up for an account: https://dashboard.ngrok.com/signup\\nInstall your authtoken: https://dashboard.ngrok.com/get-started/your-authtoken\\r\\n\\r\\nERR_NGROK_4018\\r\\n."
     ]
    }
   ],
   "source": [
    "from pyngrok import ngrok\n",
    "\n",
    "# เปิด tunnel ที่พอร์ต 5000\n",
    "public_url = ngrok.connect(5000)\n",
    "print(\"Public URL:\", public_url)"
   ]
  },
  {
   "cell_type": "code",
   "execution_count": null,
   "metadata": {},
   "outputs": [],
   "source": []
  }
 ],
 "metadata": {
  "kernelspec": {
   "display_name": "Python 3",
   "language": "python",
   "name": "python3"
  },
  "language_info": {
   "codemirror_mode": {
    "name": "ipython",
    "version": 3
   },
   "file_extension": ".py",
   "mimetype": "text/x-python",
   "name": "python",
   "nbconvert_exporter": "python",
   "pygments_lexer": "ipython3",
   "version": "3.9.7"
  }
 },
 "nbformat": 4,
 "nbformat_minor": 2
}
